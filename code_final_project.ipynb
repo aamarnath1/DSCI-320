{
  "nbformat": 4,
  "nbformat_minor": 0,
  "metadata": {
    "colab": {
      "provenance": []
    },
    "kernelspec": {
      "name": "python3",
      "display_name": "Python 3"
    },
    "language_info": {
      "name": "python"
    }
  },
  "cells": [
    {
      "cell_type": "markdown",
      "source": [
        "# **Project 1: SVM's for Binary and Multiclass Classification**"
      ],
      "metadata": {
        "id": "6iSM1pAG_1P4"
      }
    },
    {
      "cell_type": "code",
      "execution_count": null,
      "metadata": {
        "id": "Xub41mfj6PH6"
      },
      "outputs": [],
      "source": [
        "from sklearn import svm\n",
        "from sklearn.svm import SVC\n",
        "from sklearn.model_selection import train_test_split\n",
        "from sklearn.metrics import accuracy_score, confusion_matrix, classification_report\n",
        "from sklearn.preprocessing import LabelEncoder\n",
        "from sklearn.preprocessing import StandardScaler\n",
        "\n",
        "import numpy as np\n",
        "from numpy import linalg as LA\n",
        "import pandas as pd\n",
        "from google.colab import drive"
      ]
    },
    {
      "cell_type": "code",
      "source": [
        "drive.mount('/content/drive')"
      ],
      "metadata": {
        "colab": {
          "base_uri": "https://localhost:8080/"
        },
        "id": "814DJsec6Zvi",
        "outputId": "7763b6ca-9a9a-4af3-c2ac-141c98a5c250"
      },
      "execution_count": null,
      "outputs": [
        {
          "output_type": "stream",
          "name": "stdout",
          "text": [
            "Mounted at /content/drive\n"
          ]
        }
      ]
    },
    {
      "cell_type": "code",
      "source": [
        "raw_ecoli = pd.read_csv('/content/drive/MyDrive/Colab Notebooks/ecoli.data', delimiter='\\s+', header = None)"
      ],
      "metadata": {
        "id": "FhGeCsg-6l5e"
      },
      "execution_count": null,
      "outputs": []
    },
    {
      "cell_type": "code",
      "source": [
        "features = list(range(1,8))\n",
        "X = raw_ecoli.iloc[:,features]\n",
        "y = raw_ecoli.iloc[:,8]\n",
        "\n",
        "label_encoder = LabelEncoder()\n",
        "y = label_encoder.fit_transform(y)\n",
        "raw_ecoli['integer_label'] = y"
      ],
      "metadata": {
        "id": "4uccG2HV6uQ7"
      },
      "execution_count": null,
      "outputs": []
    },
    {
      "cell_type": "code",
      "source": [
        "scaler = StandardScaler()\n",
        "X = scaler.fit_transform(X)"
      ],
      "metadata": {
        "id": "OC29SeV5Ipdf"
      },
      "execution_count": null,
      "outputs": []
    },
    {
      "cell_type": "code",
      "source": [
        "X_train, X_test, y_train, y_test = train_test_split(X, y, test_size=0.2, random_state=42, stratify=y)"
      ],
      "metadata": {
        "id": "YIfH3dN79Flb"
      },
      "execution_count": null,
      "outputs": []
    },
    {
      "cell_type": "markdown",
      "source": [
        "# **SKLearn implementation of SVM with various kernels**"
      ],
      "metadata": {
        "id": "ZTbFo73qKl40"
      }
    },
    {
      "cell_type": "code",
      "source": [
        "mod_lin = svm.SVC(kernel='linear')\n",
        "mod_lin.fit(X_train, y_train)\n",
        "y_pred = mod_lin.predict(X_test)\n",
        "\n",
        "accuracy = round(accuracy_score(y_test, y_pred),2)\n",
        "conf_matrix = confusion_matrix(y_test, y_pred)\n",
        "\n",
        "print('LINEAR SVM')\n",
        "print('----------')\n",
        "print(f'Accuracy: {accuracy}')\n",
        "print('Confusion Matrix:')\n",
        "print(conf_matrix)"
      ],
      "metadata": {
        "colab": {
          "base_uri": "https://localhost:8080/"
        },
        "id": "3sgH9ESV-hNB",
        "outputId": "f8a26c1d-3324-4a47-f18e-54e443d0ef0d"
      },
      "execution_count": null,
      "outputs": [
        {
          "output_type": "stream",
          "name": "stdout",
          "text": [
            "LINEAR SVM\n",
            "----------\n",
            "Accuracy: 0.91\n",
            "Confusion Matrix:\n",
            "[[29  0  0  0  0  0]\n",
            " [ 0 11  5  0  0  0]\n",
            " [ 0  1  6  0  0  0]\n",
            " [ 0  0  0  4  0  0]\n",
            " [ 0  0  0  0  1  0]\n",
            " [ 0  0  0  0  0 11]]\n"
          ]
        }
      ]
    },
    {
      "cell_type": "code",
      "source": [
        "mod_poly = svm.SVC(kernel='poly', degree=2)\n",
        "mod_poly.fit(X_train, y_train)\n",
        "y_pred = mod_poly.predict(X_test)\n",
        "\n",
        "accuracy = round(accuracy_score(y_test, y_pred),2)\n",
        "conf_matrix = confusion_matrix(y_test, y_pred)\n",
        "\n",
        "print('POLYNOMIAL SVM')\n",
        "print('----------')\n",
        "print(f'Accuracy: {accuracy}')\n",
        "print('Confusion Matrix:')\n",
        "print(conf_matrix)"
      ],
      "metadata": {
        "colab": {
          "base_uri": "https://localhost:8080/"
        },
        "id": "62si2ayC_SaF",
        "outputId": "43f910ad-d23c-44bc-b8bf-8ead7a74382a"
      },
      "execution_count": null,
      "outputs": [
        {
          "output_type": "stream",
          "name": "stdout",
          "text": [
            "POLYNOMIAL SVM\n",
            "----------\n",
            "Accuracy: 0.74\n",
            "Confusion Matrix:\n",
            "[[28  1  0  0  0  0]\n",
            " [ 3  8  5  0  0  0]\n",
            " [ 1  2  4  0  0  0]\n",
            " [ 0  0  0  4  0  0]\n",
            " [ 0  0  0  0  1  0]\n",
            " [ 6  0  0  0  0  5]]\n"
          ]
        }
      ]
    },
    {
      "cell_type": "code",
      "source": [
        "mod_rbf = svm.SVC(kernel='rbf', gamma=1)\n",
        "mod_rbf.fit(X_train, y_train)\n",
        "y_pred = mod_rbf.predict(X_test)\n",
        "\n",
        "accuracy = round(accuracy_score(y_test, y_pred),2)\n",
        "conf_matrix = confusion_matrix(y_test, y_pred)\n",
        "\n",
        "print('RADIAL BASIS SVM')\n",
        "print('----------')\n",
        "print(f'Accuracy: {accuracy}')\n",
        "print('Confusion Matrix:')\n",
        "print(conf_matrix)"
      ],
      "metadata": {
        "colab": {
          "base_uri": "https://localhost:8080/"
        },
        "id": "uAxL6yQuBynE",
        "outputId": "c1c1a8e5-fe11-43cc-c90f-77e6980c0382"
      },
      "execution_count": null,
      "outputs": [
        {
          "output_type": "stream",
          "name": "stdout",
          "text": [
            "RADIAL BASIS SVM\n",
            "----------\n",
            "Accuracy: 0.93\n",
            "Confusion Matrix:\n",
            "[[29  0  0  0  0  0]\n",
            " [ 0 13  3  0  0  0]\n",
            " [ 0  1  6  0  0  0]\n",
            " [ 0  1  0  3  0  0]\n",
            " [ 0  0  0  0  1  0]\n",
            " [ 0  0  0  0  0 11]]\n"
          ]
        }
      ]
    },
    {
      "cell_type": "code",
      "source": [
        "mod_sig = svm.SVC(kernel='sigmoid')\n",
        "mod_sig.fit(X_train, y_train)\n",
        "y_pred = mod_sig.predict(X_test)\n",
        "\n",
        "accuracy = round(accuracy_score(y_test, y_pred),2)\n",
        "conf_matrix = confusion_matrix(y_test, y_pred)\n",
        "\n",
        "print('SIGMOID SVM')\n",
        "print('----------')\n",
        "print(f'Accuracy: {accuracy}')\n",
        "print('Confusion Matrix:')\n",
        "print(conf_matrix)"
      ],
      "metadata": {
        "colab": {
          "base_uri": "https://localhost:8080/"
        },
        "id": "7WwS72C7CH42",
        "outputId": "61d96f38-cbbe-4ae3-8ae6-5b669c3890f4"
      },
      "execution_count": null,
      "outputs": [
        {
          "output_type": "stream",
          "name": "stdout",
          "text": [
            "SIGMOID SVM\n",
            "----------\n",
            "Accuracy: 0.91\n",
            "Confusion Matrix:\n",
            "[[29  0  0  0  0  0]\n",
            " [ 0 11  5  0  0  0]\n",
            " [ 0  1  6  0  0  0]\n",
            " [ 0  0  0  4  0  0]\n",
            " [ 0  0  0  0  1  0]\n",
            " [ 0  0  0  0  0 11]]\n"
          ]
        }
      ]
    },
    {
      "cell_type": "markdown",
      "source": [
        "# **Our implementation of SVM with various kernels**"
      ],
      "metadata": {
        "id": "aqL01_E3KT0q"
      }
    },
    {
      "cell_type": "code",
      "source": [
        "def binary_classifier(X, Y, kernel='linear', gamma=0.1, degree=2, r=1):\n",
        "    N = len(Y)\n",
        "    A = np.zeros([N, N]) #kernel matrix\n",
        "\n",
        "    if kernel == 'linear':\n",
        "        for i in range(N):\n",
        "            for j in range(i, N):\n",
        "                A[i, j] = np.sum(np.dot((X[i, :] * Y[i]).T, X[j, :] * Y[j]))\n",
        "                A[j, i] = A[i, j]\n",
        "    elif kernel == 'rbf':\n",
        "        for i in range(N):\n",
        "            for j in range(i, N):\n",
        "                A[i, j] = np.exp(-gamma * LA.norm(X[i, :] - X[j, :]) ** 2)\n",
        "                A[j, i] = A[i, j]\n",
        "    elif kernel == 'poly':\n",
        "        for i in range(N):\n",
        "            for j in range(i, N):\n",
        "                A[i, j] = (gamma * np.dot(X[i, :], X[j, :]) + r) ** degree\n",
        "                A[j, i] = A[i, j]\n",
        "    elif kernel == 'sigmoid':\n",
        "        for i in range(N):\n",
        "            for j in range(i, N):\n",
        "                A[i, j] = np.tanh(gamma * np.sum(np.dot((X[i, :] * Y[i]).T, X[j, :] * Y[j])) + r)\n",
        "                A[j, i] = A[i, j]\n",
        "\n",
        "#intermediate weights for solving classification weights\n",
        "    YM = np.outer(Y[1:], Y[1:])\n",
        "    AY = np.outer(A[0, 1:], Y[1:])\n",
        "    YA = np.outer(Y[1:], A[0, 1:])\n",
        "\n",
        "    Y0S = Y[0] ** 2 #first label\n",
        "    M = A[1:, 1:] + A[0, 0] * YM / Y0S - AY / Y[0] - YA / Y[0] #modified kernel matrix A\n",
        "\n",
        "    aw = np.zeros(N)\n",
        "\n",
        "    bright = np.zeros(N)\n",
        "    bright = 1 - Y / Y[0]\n",
        "# solving for weight aw\n",
        "    adiag = np.diagonal(A)\n",
        "    t1 = A[0, 0]\n",
        "    t2 = 2 * np.multiply(A[0, :], Y) / Y[0]\n",
        "    t3 = adiag + t1 - t2\n",
        "    indxnzero = np.where(t3 != 0)\n",
        "    aw[indxnzero[0]] = np.divide(bright[indxnzero], t3[indxnzero])\n",
        "    aw[0] = -sum(Y[indxnzero] * aw[indxnzero]) / Y[0]\n",
        "\n",
        "    YA = np.zeros(N)\n",
        "    YA[0] = Y[0] * aw[0]\n",
        "    YA[indxnzero] = Y[indxnzero] * aw[indxnzero]\n",
        "\n",
        "    wght = sum(X * YA[:, None])\n",
        "    b = sum(Y - np.matmul(X, wght)) / N\n",
        "\n",
        "    return (wght, b)"
      ],
      "metadata": {
        "id": "Z9b2iVRNJOPe"
      },
      "execution_count": null,
      "outputs": []
    },
    {
      "cell_type": "code",
      "source": [
        "def one_vs_all_classifier(X, Y, kernel='linear', gamma=1, degree=2, r=1):\n",
        "    num_classes = len(np.unique(Y))\n",
        "    classifiers = []\n",
        "\n",
        "    for class_label in range(num_classes):\n",
        "        Y_binary = np.where(Y == class_label, 1, -1)\n",
        "\n",
        "        classifier = binary_classifier(X, Y_binary, kernel, gamma, degree, r)\n",
        "        classifiers.append(classifier)\n",
        "\n",
        "    return classifiers"
      ],
      "metadata": {
        "id": "oFH8vh39Jere"
      },
      "execution_count": null,
      "outputs": []
    },
    {
      "cell_type": "code",
      "source": [
        "def predict_one_vs_all(X, classifiers):\n",
        "    decision_scores = np.zeros((len(X), len(classifiers)))\n",
        "\n",
        "    for i, (w, b) in enumerate(classifiers):\n",
        "        decision_scores[:, i] = np.dot(X, w) + b\n",
        "\n",
        "    predicted_labels = np.argmax(decision_scores, axis=1)\n",
        "\n",
        "    return predicted_labels"
      ],
      "metadata": {
        "id": "2ZAZ6x3R7LJS"
      },
      "execution_count": null,
      "outputs": []
    },
    {
      "cell_type": "code",
      "source": [
        "classifiers = one_vs_all_classifier(X_train, y_train, kernel='linear')\n",
        "predicted_labels = predict_one_vs_all(X_test, classifiers)\n",
        "accuracy = round(np.mean(predicted_labels == y_test),2)\n",
        "conf_matrix = confusion_matrix(y_test, predicted_labels)\n",
        "\n",
        "print('OUR LINEAR SVM')\n",
        "print('----------')\n",
        "print(f'Accuracy: {accuracy}')\n",
        "print('Confusion Matrix:')\n",
        "print(conf_matrix)"
      ],
      "metadata": {
        "colab": {
          "base_uri": "https://localhost:8080/"
        },
        "id": "ONbkO5m77yiI",
        "outputId": "74ac6b1d-7ba9-4988-96f7-5c1bfc952648"
      },
      "execution_count": null,
      "outputs": [
        {
          "output_type": "stream",
          "name": "stdout",
          "text": [
            "OUR LINEAR SVM\n",
            "----------\n",
            "Accuracy: 0.75\n",
            "Confusion Matrix:\n",
            "[[28  0  0  1  0  0]\n",
            " [ 1 15  0  0  0  0]\n",
            " [ 0  7  0  0  0  0]\n",
            " [ 0  4  0  0  0  0]\n",
            " [ 0  0  0  1  0  0]\n",
            " [ 0  3  0  0  0  8]]\n"
          ]
        }
      ]
    },
    {
      "cell_type": "code",
      "source": [
        "classifiers = one_vs_all_classifier(X_train, y_train, kernel='poly', degree=2)\n",
        "predicted_labels = predict_one_vs_all(X_test, classifiers)\n",
        "accuracy = round(np.mean(predicted_labels == y_test),2)\n",
        "conf_matrix = confusion_matrix(y_test, predicted_labels)\n",
        "\n",
        "print('OUR POLYNOMIAL SVM')\n",
        "print('----------')\n",
        "print(f'Accuracy: {accuracy}')\n",
        "print('Confusion Matrix:')\n",
        "print(conf_matrix)"
      ],
      "metadata": {
        "colab": {
          "base_uri": "https://localhost:8080/"
        },
        "id": "svHbcojnAsyO",
        "outputId": "366883e2-f6cb-4ccb-b709-abc794f9e215"
      },
      "execution_count": null,
      "outputs": [
        {
          "output_type": "stream",
          "name": "stdout",
          "text": [
            "OUR POLYNOMIAL SVM\n",
            "----------\n",
            "Accuracy: 0.71\n",
            "Confusion Matrix:\n",
            "[[29  0  0  0  0  0]\n",
            " [ 1 15  0  0  0  0]\n",
            " [ 0  7  0  0  0  0]\n",
            " [ 0  4  0  0  0  0]\n",
            " [ 0  1  0  0  0  0]\n",
            " [ 0  7  0  0  0  4]]\n"
          ]
        }
      ]
    },
    {
      "cell_type": "code",
      "source": [
        "classifiers = one_vs_all_classifier(X_train, y_train, kernel='rbf', gamma=1)\n",
        "predicted_labels = predict_one_vs_all(X_test, classifiers)\n",
        "accuracy = round(np.mean(predicted_labels == y_test),2)\n",
        "conf_matrix = confusion_matrix(y_test, predicted_labels)\n",
        "\n",
        "print('OUR RADIAL BASIS SVM')\n",
        "print('----------')\n",
        "print(f'Accuracy: {accuracy}')\n",
        "print('Confusion Matrix:')\n",
        "print(conf_matrix)"
      ],
      "metadata": {
        "colab": {
          "base_uri": "https://localhost:8080/"
        },
        "id": "aPSFDUszC3CU",
        "outputId": "f1d8e4ed-0edc-45f8-ee47-bf58bf5e4e5d"
      },
      "execution_count": null,
      "outputs": [
        {
          "output_type": "stream",
          "name": "stdout",
          "text": [
            "OUR RADIAL BASIS SVM\n",
            "----------\n",
            "Accuracy: 0.75\n",
            "Confusion Matrix:\n",
            "[[28  0  0  1  0  0]\n",
            " [ 1 15  0  0  0  0]\n",
            " [ 0  7  0  0  0  0]\n",
            " [ 0  4  0  0  0  0]\n",
            " [ 0  0  0  0  1  0]\n",
            " [ 0  4  0  0  0  7]]\n"
          ]
        }
      ]
    },
    {
      "cell_type": "code",
      "source": [
        "classifiers = one_vs_all_classifier(X_train, y_train, kernel='sigmoid', gamma = 0.1, r = 1)\n",
        "predicted_labels = predict_one_vs_all(X_test, classifiers)\n",
        "accuracy = round(np.mean(predicted_labels == y_test),2)\n",
        "conf_matrix = confusion_matrix(y_test, predicted_labels)\n",
        "\n",
        "print('OUR SIGMOID SVM')\n",
        "print('----------')\n",
        "print(f'Accuracy: {accuracy}')\n",
        "print('Confusion Matrix:')\n",
        "print(conf_matrix)"
      ],
      "metadata": {
        "colab": {
          "base_uri": "https://localhost:8080/"
        },
        "id": "Q0BlTPHQDgPL",
        "outputId": "e1cd862b-834d-4a49-e94d-cceed9d31ef5"
      },
      "execution_count": null,
      "outputs": [
        {
          "output_type": "stream",
          "name": "stdout",
          "text": [
            "OUR SIGMOID SVM\n",
            "----------\n",
            "Accuracy: 0.75\n",
            "Confusion Matrix:\n",
            "[[28  0  0  1  0  0]\n",
            " [ 1 15  0  0  0  0]\n",
            " [ 0  7  0  0  0  0]\n",
            " [ 0  4  0  0  0  0]\n",
            " [ 0  0  0  0  1  0]\n",
            " [ 0  4  0  0  0  7]]\n"
          ]
        }
      ]
    },
    {
      "cell_type": "code",
      "source": [
        "results = [[\"Linear\", 0.91, 0.75],\n",
        "           [\"Polynomial\", 0.74, 0.71],\n",
        "           [\"Radial Basis\", 0.93, 0.75],\n",
        "           [\"Sigmoid\", 0.91, 0.75]]\n",
        "\n",
        "results_df = pd.DataFrame(results, columns=[\"Kernel\",\"SKLearn\",\"Ours\"])\n",
        "print(results_df.to_markdown(index=False))"
      ],
      "metadata": {
        "colab": {
          "base_uri": "https://localhost:8080/"
        },
        "id": "qOzsHePlMAjK",
        "outputId": "f19cc012-f7f8-4218-8f72-e5c8dae15622"
      },
      "execution_count": null,
      "outputs": [
        {
          "output_type": "stream",
          "name": "stdout",
          "text": [
            "| Kernel       |   SKLearn |   Ours |\n",
            "|:-------------|----------:|-------:|\n",
            "| Linear       |      0.91 |   0.75 |\n",
            "| Polynomial   |      0.74 |   0.71 |\n",
            "| Radial Basis |      0.93 |   0.75 |\n",
            "| Sigmoid      |      0.91 |   0.75 |\n"
          ]
        }
      ]
    },
    {
      "cell_type": "markdown",
      "source": [
        "# **Binary Classification Example**\n",
        "Testing Cytoplasm (cp) against all"
      ],
      "metadata": {
        "id": "SX0_nj1wVllS"
      }
    },
    {
      "cell_type": "code",
      "source": [
        "import pandas as pd\n",
        "import numpy as np\n",
        "from sklearn.model_selection import train_test_split\n",
        "\n",
        "raw_ecoli = pd.read_csv('/content/drive/MyDrive/Colab Notebooks/ecoli.data', delimiter='\\s+', header=None)\n",
        "\n",
        "# Selecting features and labels\n",
        "features_binary = list(range(1,8))\n",
        "X = raw_ecoli.iloc[:, features_binary]\n",
        "y = raw_ecoli.iloc[:, -1]  # Labels\n",
        "\n",
        "#Search for cytoplasm, 1 if cp, -1 if not\n",
        "binary_y = np.where(raw_ecoli.iloc[:, -1] == 'cp', 1, -1)\n",
        "\n",
        "X_train_binary, X_test_binary, y_train_binary, y_test_binary = train_test_split(X, binary_y, test_size=0.2, random_state=42)\n",
        "\n",
        "X_train_binary_np = X_train_binary.to_numpy()\n",
        "X_test_binary_np = X_test_binary.to_numpy()\n"
      ],
      "metadata": {
        "id": "dTwHdjVmVucd"
      },
      "execution_count": null,
      "outputs": []
    },
    {
      "cell_type": "code",
      "source": [
        "# X = Feature matrix (for future pred. data)\n",
        "def predict(X, w, b):\n",
        "    # Prediction function\n",
        "    decision_values = np.dot(X, w) + b\n",
        "    predictions = np.sign(decision_values)\n",
        "    return predictions\n",
        "\n",
        "# Kernels to test\n",
        "kernels = ['linear', 'poly', 'rbf', 'sigmoid']\n",
        "\n",
        "# Iterate over kernels and compare SVMs\n",
        "for kernel in kernels:\n",
        "    # Train and evaluate custom SVM\n",
        "    w, b = binary_classifier(X_train_binary_np, y_train_binary, kernel=kernel, gamma=0.1, degree=3, r=1)\n",
        "    y_pred_custom = predict(X_test_binary_np, w, b)\n",
        "    accuracy_custom = accuracy_score(y_test_binary, y_pred_custom)\n",
        "    print(f\"Custom SVM Kernel: {kernel}, Accuracy: {accuracy_custom}\")\n",
        "    print(\"Confusion Matrix:\")\n",
        "    print(confusion_matrix(y_test_binary, y_pred_custom))\n",
        "\n",
        "    # Train and evaluate SKLearn's SVM\n",
        "    model = SVC(kernel=kernel, gamma=0.1, degree=3)\n",
        "    model.fit(X_train_binary_np, y_train_binary)\n",
        "    y_pred_sklearn = model.predict(X_test_binary_np)\n",
        "    accuracy_sklearn = accuracy_score(y_test_binary, y_pred_sklearn)\n",
        "    print(f\"SKLearn SVM Kernel: {kernel}, Accuracy: {accuracy_sklearn}\")\n",
        "    print(\"Confusion Matrix:\")\n",
        "    print(confusion_matrix(y_test_binary, y_pred_sklearn))\n",
        "    print(\"\\n\")"
      ],
      "metadata": {
        "colab": {
          "base_uri": "https://localhost:8080/"
        },
        "id": "1W_SvWx0igmQ",
        "outputId": "8aece953-e23d-4af9-fdc8-c61d9ae145c2"
      },
      "execution_count": null,
      "outputs": [
        {
          "output_type": "stream",
          "name": "stdout",
          "text": [
            "Custom SVM Kernel: linear, Accuracy: 0.8970588235294118\n",
            "Confusion Matrix:\n",
            "[[30  6]\n",
            " [ 1 31]]\n",
            "SKLearn SVM Kernel: linear, Accuracy: 0.9411764705882353\n",
            "Confusion Matrix:\n",
            "[[34  2]\n",
            " [ 2 30]]\n",
            "\n",
            "\n",
            "Custom SVM Kernel: poly, Accuracy: 0.8529411764705882\n",
            "Confusion Matrix:\n",
            "[[29  7]\n",
            " [ 3 29]]\n",
            "SKLearn SVM Kernel: poly, Accuracy: 0.5294117647058824\n",
            "Confusion Matrix:\n",
            "[[36  0]\n",
            " [32  0]]\n",
            "\n",
            "\n",
            "Custom SVM Kernel: rbf, Accuracy: 0.8676470588235294\n",
            "Confusion Matrix:\n",
            "[[29  7]\n",
            " [ 2 30]]\n",
            "SKLearn SVM Kernel: rbf, Accuracy: 0.9411764705882353\n",
            "Confusion Matrix:\n",
            "[[34  2]\n",
            " [ 2 30]]\n",
            "\n",
            "\n",
            "Custom SVM Kernel: sigmoid, Accuracy: 0.8823529411764706\n",
            "Confusion Matrix:\n",
            "[[29  7]\n",
            " [ 1 31]]\n",
            "SKLearn SVM Kernel: sigmoid, Accuracy: 0.9411764705882353\n",
            "Confusion Matrix:\n",
            "[[34  2]\n",
            " [ 2 30]]\n",
            "\n",
            "\n"
          ]
        }
      ]
    },
    {
      "cell_type": "code",
      "source": [
        "results_binary = [[\"Linear\", 0.94, 0.89],\n",
        "           [\"Polynomial\", 0.53, 0.85],\n",
        "           [\"Radial Basis\", 0.94, 0.87],\n",
        "           [\"Sigmoid\", 0.94, 0.88]]\n",
        "\n",
        "results_binary_df = pd.DataFrame(results_binary, columns=[\"Kernel\",\"SKLearn\",\"Ours\"])\n",
        "print(results_binary_df.to_markdown(index=False))"
      ],
      "metadata": {
        "colab": {
          "base_uri": "https://localhost:8080/"
        },
        "id": "9GD4DN86k6ij",
        "outputId": "678a74cc-034a-4f3f-f8c9-85dadc8440d6"
      },
      "execution_count": null,
      "outputs": [
        {
          "output_type": "stream",
          "name": "stdout",
          "text": [
            "| Kernel       |   SKLearn |   Ours |\n",
            "|:-------------|----------:|-------:|\n",
            "| Linear       |      0.94 |   0.89 |\n",
            "| Polynomial   |      0.53 |   0.85 |\n",
            "| Radial Basis |      0.94 |   0.87 |\n",
            "| Sigmoid      |      0.94 |   0.88 |\n"
          ]
        }
      ]
    }
  ]
}